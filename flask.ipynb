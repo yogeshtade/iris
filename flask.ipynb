{
 "cells": [
  {
   "cell_type": "code",
   "execution_count": null,
   "id": "fafd0654",
   "metadata": {},
   "outputs": [],
   "source": [
    "diff between GET & POST \n",
    "\n",
    "1. Data is visible in URL          1. Data is not displayed \n",
    "2. Default method                  2. envoke this method\n",
    "3. support only string data type   3. support different data type [string, numeric, binary]\n",
    "4. less secure compare POST        4. It more secured compared get method \n",
    "5. MAX URL 2048 char               5. No restriction \n",
    "\n",
    "*** NOTE : Never use GET when sending password or any sensitive information. "
   ]
  },
  {
   "cell_type": "code",
   "execution_count": null,
   "id": "ca6cc678",
   "metadata": {},
   "outputs": [],
   "source": [
    "HTTP Status Codes :\n",
    "    200-299 - Successful Response\n",
    "    300-399 - Redirection Messages\n",
    "    400-499 - client error messages\n",
    "    500-599 - Server Error Messages\n",
    "    \n",
    "MOst Common Code \n",
    "\n",
    "200 - The request is succeded  **\n",
    "301 - Moved permanently\n",
    "400 - Bad request **\n",
    "401 - Unauthorised **\n",
    "404 - page not found ** \n",
    "405 - Method not allowed \n",
    "408 - Request time out \n",
    "413 - Payload too large\n",
    "429 - Too many request \n",
    "500 - Internal Server Error **\n",
    "503 - Service Unavialable  ***"
   ]
  },
  {
   "cell_type": "code",
   "execution_count": null,
   "id": "9596fff5",
   "metadata": {},
   "outputs": [],
   "source": [
    "1. Create a connection to database \n",
    "2. Create cursor object \n",
    "3. execute the query with cursor object \n",
    "4. commit the changes \n",
    "5. close the connection"
   ]
  }
 ],
 "metadata": {
  "kernelspec": {
   "display_name": "Python 3 (ipykernel)",
   "language": "python",
   "name": "python3"
  },
  "language_info": {
   "codemirror_mode": {
    "name": "ipython",
    "version": 3
   },
   "file_extension": ".py",
   "mimetype": "text/x-python",
   "name": "python",
   "nbconvert_exporter": "python",
   "pygments_lexer": "ipython3",
   "version": "3.10.5"
  }
 },
 "nbformat": 4,
 "nbformat_minor": 5
}
